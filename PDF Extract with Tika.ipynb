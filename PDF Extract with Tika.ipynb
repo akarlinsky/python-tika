{
 "cells": [
  {
   "cell_type": "markdown",
   "metadata": {},
   "source": [
    "# This Notebook extracts data from PDF files\n",
    "## Using Tika."
   ]
  },
  {
   "cell_type": "markdown",
   "metadata": {},
   "source": [
    "Before Running this, make sure TIKA server is running. \n",
    "Do so in command line by:\n",
    "\n",
    "cd c:\\Tika\n",
    "\n",
    "java -jar tika-server-1.18.jar --port 8889 "
   ]
  },
  {
   "cell_type": "code",
   "execution_count": 6,
   "metadata": {
    "collapsed": true
   },
   "outputs": [],
   "source": [
    "# importing needed modules\n",
    "from tika import parser\n",
    "import pandas as pd\n",
    "import os\n",
    "import glob\n",
    "#from string import digits"
   ]
  },
  {
   "cell_type": "code",
   "execution_count": 7,
   "metadata": {
    "collapsed": true
   },
   "outputs": [],
   "source": [
    "# Iterate over all PDF files in the folder and process each one in turn\n",
    "def extractPDFs(input_path):\n",
    "    for input_file in glob.glob(os.path.join(input_path, '*.pdf')):\n",
    "        try:\n",
    "            # Grab the PDF's file name\n",
    "            filename = os.path.basename(input_file)\n",
    "            # Remove .pdf from the filename so we can use it as the name of the txt file \n",
    "            docname = filename.strip('.pdf')\n",
    "            # Use Tika to parse the PDF\n",
    "            parsedPDF = parser.from_file(input_file,\"http://localhost:8889/\")\n",
    "            # Extract the text content from the parsed PDF\n",
    "            pdf = parsedPDF[\"content\"]\n",
    "            # Convert double newlines into single newlines\n",
    "            pdf = pdf.replace('\\n\\n', '\\n')\n",
    "\n",
    "            #output to txt file\n",
    "            output = open(docname+\".txt\",'w+',encoding='utf-8')\n",
    "            print(pdf,file=output)\n",
    "        except:\n",
    "            pass"
   ]
  },
  {
   "cell_type": "markdown",
   "metadata": {},
   "source": [
    "# Put folder path here\n",
    "extractPDFs function will look for all PDFs in folder, and return them as txt files."
   ]
  },
  {
   "cell_type": "code",
   "execution_count": 3,
   "metadata": {},
   "outputs": [],
   "source": [
    "os.chdir(\"C:/Users/Ariel Karlinsky/Google Drive/Financial Regulation/Ariel/Text Analysis/Data/Yearly Reports\")\n",
    "extractPDFs(\"C:/Users/Ariel Karlinsky/Google Drive/Financial Regulation/Ariel/Text Analysis/Data/Yearly Reports\")\n",
    "extractPDFs(\"C:/Users/Ariel Karlinsky/Google Drive/Financial Regulation/Ariel/Text Analysis/Data/Letters\")"
   ]
  },
  {
   "cell_type": "code",
   "execution_count": 8,
   "metadata": {
    "collapsed": true
   },
   "outputs": [],
   "source": [
    "os.chdir(\"C:/Users/Ariel Karlinsky/Google Drive/Financial Regulation/Ariel/Text Analysis/Data/Yearly Reports\")\n",
    "extractPDFs(\"C:/Users/Ariel Karlinsky/Google Drive/Financial Regulation/Ariel/Text Analysis/Data/Yearly Reports/2012\")\n"
   ]
  },
  {
   "cell_type": "code",
   "execution_count": null,
   "metadata": {},
   "outputs": [],
   "source": []
  }
 ],
 "metadata": {
  "kernelspec": {
   "display_name": "Python 3",
   "language": "python",
   "name": "python3"
  },
  "language_info": {
   "codemirror_mode": {
    "name": "ipython",
    "version": 3
   },
   "file_extension": ".py",
   "mimetype": "text/x-python",
   "name": "python",
   "nbconvert_exporter": "python",
   "pygments_lexer": "ipython3",
   "version": "3.6.3"
  }
 },
 "nbformat": 4,
 "nbformat_minor": 2
}
