{
 "cells": [
  {
   "cell_type": "markdown",
   "metadata": {},
   "source": [
    "# Bank Regulator Text Analsyis"
   ]
  },
  {
   "cell_type": "code",
   "execution_count": 1,
   "metadata": {},
   "outputs": [
    {
     "name": "stderr",
     "output_type": "stream",
     "text": [
      "C:\\ProgramData\\Anaconda3\\lib\\site-packages\\gensim\\utils.py:1197: UserWarning: detected Windows; aliasing chunkize to chunkize_serial\n",
      "  warnings.warn(\"detected Windows; aliasing chunkize to chunkize_serial\")\n"
     ]
    }
   ],
   "source": [
    "#Importing Various needed modules\n",
    "import glob, nltk\n",
    "from nltk.tokenize import word_tokenize, sent_tokenize\n",
    "import re\n",
    "import os\n",
    "from nltk.corpus.reader.plaintext import PlaintextCorpusReader\n",
    "import string\n",
    "import gensim\n",
    "from gensim import corpora, models, similarities\n",
    "from collections import Counter\n",
    "from sklearn.feature_extraction.text import TfidfVectorizer\n",
    "from sklearn.feature_extraction.text import CountVectorizer\n",
    "import numpy as np\n",
    "import pandas as pd\n",
    "import pprint\n",
    "import csv\n",
    "import seaborn as sns\n",
    "import matplotlib.pyplot as plt\n",
    "%matplotlib inline  "
   ]
  },
  {
   "cell_type": "code",
   "execution_count": 2,
   "metadata": {},
   "outputs": [],
   "source": [
    "# Loading all txt files into one corpus\n",
    "#corpus = PlaintextCorpusReader(\"../Data\", \".txt\",encoding='utf-8') #All text files \n",
    "corpus = PlaintextCorpusReader(\"../Data\", \".*intro.txt\",encoding='utf-8') #All yearly reportintro text files\n",
    "#corpus = PlaintextCorpusReader(\"../Data\", \"2004.*txt\",encoding='utf-8') #All 2004 text files\n",
    "#corpus = PlaintextCorpusReader(\"../Data\", \".*y.*txt\",encoding='utf-8') #All yearly report text files\n",
    "corpus = PlaintextCorpusReader(\"../Data/Clean\", \".*y.*txt\",encoding='utf-8') #All yearly report text files\n",
    "\n",
    "all_text=corpus.raw()"
   ]
  },
  {
   "cell_type": "code",
   "execution_count": 3,
   "metadata": {},
   "outputs": [
    {
     "name": "stdout",
     "output_type": "stream",
     "text": [
      "39\n",
      "2003y (1).txt -- 24686\n",
      "2003y (2).txt -- 17683\n",
      "2003y (3).txt -- 7163\n",
      "2003y (4).txt -- 11462\n",
      "2003y (5).txt -- 8606\n",
      "2004y (1).txt -- 7511\n",
      "2004y (2).txt -- 5935\n",
      "2004y (3).txt -- 31886\n",
      "2005y (1).txt -- 14747\n",
      "2005y (2).txt -- 5920\n",
      "2005y (3).txt -- 10325\n",
      "2005y (4).txt -- 10223\n",
      "2006y (1).txt -- 9918\n",
      "2006y (2).txt -- 13399\n",
      "2006y (3).txt -- 7042\n",
      "2006y (4).txt -- 14419\n",
      "2007y (1).txt -- 19771\n",
      "2007y (2).txt -- 10801\n",
      "2007y (3).txt -- 14158\n",
      "2007y (4).txt -- 6227\n",
      "2008y (1).txt -- 13949\n",
      "2008y (2).txt -- 22940\n",
      "2008y (3).txt -- 9442\n",
      "2008y (4).txt -- 18898\n",
      "2009y (1).txt -- 20424\n",
      "2009y (2).txt -- 9416\n",
      "2009y (3).txt -- 15095\n",
      "2009y (4).txt -- 11905\n",
      "2010y (1).txt -- 15546\n",
      "2010y (2).txt -- 1362\n",
      "2010y (3).txt -- 45614\n",
      "2013y (1).txt -- 8527\n",
      "2013y (2).txt -- 16924\n",
      "2014y (1).txt -- 19647\n",
      "2014y (2).txt -- 15264\n",
      "2015y (1).txt -- 25290\n",
      "2015y (2).txt -- 17088\n",
      "2016y.txt -- 35128\n",
      "2017y.txt -- 52624\n"
     ]
    }
   ],
   "source": [
    "files=corpus.fileids()\n",
    "for file in files:\n",
    "    raw = corpus.raw(file)\n",
    "    print(file,\"--\",len(nltk.word_tokenize(raw)))"
   ]
  },
  {
   "cell_type": "code",
   "execution_count": 9,
   "metadata": {},
   "outputs": [],
   "source": [
    "# Removing punctation marks ('!\"#$%&\\'()*+,-./:;<=>?@[\\\\]^_`{|}~') from raw text\n",
    "all_text2 = raw.translate(str.maketrans(\"\",\"\", string.punctuation))\n",
    "#Removing numbers, english letters and ־\n",
    "clean = re.sub(r'\\d+', '', all_text2)\n",
    "clean = re.sub(r'[a-zA-Z]', '', clean)\n",
    "clean = clean.translate(str.maketrans(\"\",\"\", \"־\"))\n",
    "#Removing small (<2) words\n",
    "clean2 = ' '.join([word for word in clean.split() if len(word) >2])"
   ]
  },
  {
   "cell_type": "code",
   "execution_count": 11,
   "metadata": {},
   "outputs": [],
   "source": [
    "# Tokenizing full string into a list of words\n",
    "words = nltk.word_tokenize(clean2)"
   ]
  },
  {
   "cell_type": "code",
   "execution_count": 12,
   "metadata": {},
   "outputs": [],
   "source": [
    "sentences = nltk.sent_tokenize(all_text)"
   ]
  },
  {
   "cell_type": "code",
   "execution_count": 13,
   "metadata": {},
   "outputs": [],
   "source": [
    "# num of words in each intro to yearly report, raw and after taking out punctuation.\n",
    "with open(\"output.csv\", \"w\", newline=\"\") as csvfile:\n",
    "    fieldnames = [\"Year\", \"Length\"]\n",
    "    writer = csv.DictWriter(csvfile, fieldnames=fieldnames)\n",
    "    writer.writeheader()\n",
    "    for file in files:\n",
    "        raw = corpus.raw(file)\n",
    "        all_text2 = raw.translate(str.maketrans(\"\",\"\", string.punctuation))\n",
    "        clean = re.sub(r'\\d+', '', all_text2)\n",
    "        clean = re.sub(r'[a-zA-Z]', '', clean)\n",
    "        clean = clean.translate(str.maketrans(\"\",\"\", \"־\"))\n",
    "        clean2 = ' '.join([word for word in clean.split() if len(word) >2])\n",
    "        words = nltk.word_tokenize(clean2)\n",
    "        #print(file,\"--\",len(nltk.word_tokenize(raw)))\n",
    "        writer.writerow({\"Year\": file.split(\"y\")[0], \"Length\": len(words)})\n",
    "df = pd.read_csv('output.csv')"
   ]
  },
  {
   "cell_type": "code",
   "execution_count": 14,
   "metadata": {},
   "outputs": [],
   "source": [
    "df.set_index(\"Year\",drop=True,inplace=True)"
   ]
  },
  {
   "cell_type": "code",
   "execution_count": 34,
   "metadata": {},
   "outputs": [
    {
     "data": {
      "image/png": "[encoded data removed]",
      "text/plain": [
       "<Figure size 1440x720 with 1 Axes>"
      ]
     },
     "metadata": {},
     "output_type": "display_data"
    }
   ],
   "source": [
    "ax = df.groupby('Year').sum().plot(kind='bar', figsize=(20,10), fontsize=20)"
   ]
  },
  {
   "cell_type": "code",
   "execution_count": null,
   "metadata": {},
   "outputs": [],
   "source": [
    "# num of occurances of keywords in each intro to yearly report\n",
    "keywords = \"תחרות\tסיכונ\tיציב\tלקוח\tצרכנ\tנהל\tפקח\tהונ\tצמח\tהאט\tשבר\".split()\n",
    "for file in files:\n",
    "    for keyword in keywords:\n",
    "        raw = corpus.raw(file)\n",
    "        all_text2= raw.translate(str.maketrans(\"\",\"\", string.punctuation))\n",
    "        all_text3= all_text2.translate(str.maketrans(\"ךםןףץ\",\"כמנפצ\"))\n",
    "        clean = ' '.join([word for word in all_text3.split() if len(word) >2])\n",
    "        words = nltk.word_tokenize(clean)\n",
    "        t = [word for word in words if keyword in word]\n",
    "        print(file,\"-\",keyword,\"-has-\",len(t),\"-apperances\")"
   ]
  },
  {
   "cell_type": "code",
   "execution_count": 16,
   "metadata": {},
   "outputs": [
    {
     "name": "stdout",
     "output_type": "stream",
     "text": [
      "\n",
      " [('2003', 235), ('2002', 151), ('הבנקימ', 148), ('האשראי', 95), ('בשנת', 95), ('הבנקאות', 89), ('מיליארד', 79), ('לוח', 79), ('השנה', 72), ('הרווח', 72)]\n",
      "\n",
      " [('2003', 184), ('האשראי', 169), ('2002', 111), ('ההונ', 95), ('בשנת', 73), ('הקבוצות', 69), ('במגזר', 62), ('לוח', 61), ('הבנקימ', 57), ('הבנקאיות', 56)]\n",
      "\n",
      " [('הבנקימ', 99), ('הפיקוח', 53), ('2003', 36), ('הבנקאות', 32), ('מידע', 28), ('המידע', 25), ('היחידה', 25), ('בנק', 24), ('ניהול', 23), ('בתחומ', 23)]\n",
      "\n",
      " [('האשראי', 120), ('הבנקימ', 106), ('2003', 98), ('בשנת', 73), ('הבנקאות', 66), ('ההונ', 52), ('הקבוצות', 50), ('הבנקאיות', 48), ('מערכת', 45), ('יחס', 43)]\n",
      "\n",
      " [('2003', 56), ('מספר', 55), ('הבנקימ', 52), ('בישראל', 51), ('בנק', 51), ('הבנקאות', 47), ('מערכת', 40), ('האשראי', 37), ('לוח', 32), ('אשראי', 29)]\n",
      "\n",
      " [('���', 99), ('����', 67), ('בנק', 59), ('2004', 57), ('הבנקאות', 49), ('מספר', 43), ('הבנקימ', 42), ('מערכת', 37), ('�����', 35), ('בישראל', 30)]\n",
      "\n",
      " [('הבנקימ', 74), ('2004', 53), ('הפיקוח', 34), ('בנק', 29), ('היחידה', 25), ('הבנקאות', 22), ('הונ', 21), ('ניהול', 20), ('מערכת', 18), ('בנקאי', 18)]\n",
      "\n",
      " [('2004', 314), ('2003', 222), ('האשראי', 212), ('הבנקאות', 144), ('לוח', 137), ('הבנקימ', 126), ('ההונ', 117), ('מערכת', 116), ('הקבוצות', 112), ('בשנת', 105)]\n",
      "\n",
      " [('2005', 149), ('האשראי', 130), ('2004', 93), ('ההונ', 67), ('לוח', 66), ('הבנקאות', 59), ('שראי', 55), ('מערכת', 54), ('הבנקימ', 49), ('מיליוני', 46)]\n",
      "\n",
      " [('הבנקימ', 67), ('2005', 51), ('היחידה', 32), ('הפיקוח', 30), ('ניהול', 28), ('הבנקאות', 28), ('בנק', 24), ('פעילות', 23), ('הוראות', 22), ('בשנת', 18)]\n",
      "\n",
      " [('2005', 90), ('האשראי', 72), ('בנק', 62), ('הבנקאות', 61), ('2004', 56), ('מערכת', 48), ('הבנקימ', 43), ('שראי', 37), ('חברות', 35), ('ההונ', 34)]\n",
      "\n",
      " [('2005', 61), ('הבנקאות', 53), ('הבנקימ', 50), ('השנה', 49), ('ההכנסות', 46), ('הקבוצות', 41), ('הרווח', 40), ('2004', 38), ('הבנקאיות', 37), ('התפעוליות', 36)]\n",
      "\n",
      " [('השנה', 111), ('הרווח', 61), ('הקבוצות', 59), ('התפעוליות', 57), ('2005', 56), ('ההכנסות', 55), ('הבנקאיות', 54), ('2006', 48), ('הגדולות', 47), ('הבנקימ', 42)]\n",
      "\n",
      " [('האשראי', 163), ('2006', 117), ('ההונ', 113), ('2005', 68), ('לוח', 49), ('הערכ', 46), ('סיכונ', 45), ('הבנקימ', 43), ('לסיכונ', 42), ('הבנקאות', 41)]\n",
      "\n",
      " [('הבנקימ', 103), ('2006', 50), ('הפיקוח', 49), ('היחידה', 36), ('בנק', 35), ('מידע', 31), ('הבנקאות', 30), ('הבנקאיימ', 30), ('ניהול', 28), ('הבנקאי', 26)]\n",
      "\n",
      " [('2006', 112), ('האשראי', 98), ('הבנקימ', 73), ('הבנקאות', 70), ('בנק', 69), ('2005', 68), ('בישראל', 61), ('אשראי', 57), ('מערכת', 56), ('שראי', 50)]\n",
      "\n",
      " [('2007', 154), ('הבנקאות', 106), ('בנק', 106), ('הבנקימ', 100), ('האשראי', 95), ('2006', 87), ('מערכת', 86), ('בישראל', 78), ('אשראי', 78), ('שראי', 58)]\n",
      "\n",
      " [('השנה', 102), ('הרווח', 71), ('הקבוצות', 67), ('הבנקימ', 65), ('הבנקאיות', 58), ('התפעוליות', 54), ('בנק', 50), ('ההכנסות', 48), ('2007', 48), ('2006', 46)]\n",
      "\n",
      " [('האשראי', 207), ('2007', 129), ('ההונ', 106), ('סיכונ', 78), ('2006', 76), ('הבנקימ', 65), ('הערכ', 50), ('בישראל', 47), ('לוח', 46), ('הקבוצות', 43)]\n",
      "\n",
      " [('הבנקימ', 126), ('הפיקוח', 77), ('2007', 40), ('הבנקאיימ', 37), ('הבנקאות', 27), ('בישראל', 26), ('התאגידימ', 24), ('באזל', 23), ('בינ', 23), ('בנק', 22)]\n",
      "\n",
      " [('השנה', 154), ('הקבוצות', 110), ('בנק', 71), ('ההכנסות', 71), ('הרווח', 70), ('הבנקאיות', 64), ('הבנקימ', 64), ('2008', 62), ('התפעוליות', 60), ('הגדולות', 56)]\n",
      "\n",
      " [('האשראי', 274), ('2008', 189), ('ההונ', 174), ('סיכונ', 146), ('הבנקימ', 109), ('2007', 92), ('הערכ', 89), ('השנה', 88), ('המשבר', 80), ('תיק', 78)]\n",
      "\n",
      " [('הבנקימ', 167), ('הפיקוח', 91), ('2008', 66), ('הבנקאיימ', 49), ('הבנקאות', 42), ('בשנת', 33), ('הבנקאית', 31), ('ניהול', 31), ('בנושא', 30), ('פעילות', 28)]\n",
      "\n",
      " [('2008', 170), ('האשראי', 100), ('הבנקימ', 99), ('הבנקאות', 94), ('2007', 93), ('בנק', 84), ('בישראל', 77), ('מערכת', 74), ('אשראי', 71), ('השנה', 66)]\n",
      "\n",
      " [('האשראי', 272), ('2009', 165), ('ההונ', 164), ('סיכונ', 114), ('הבנקימ', 101), ('2008', 99), ('הסיכונ', 89), ('הבנקאות', 66), ('בישראל', 65), ('המשבר', 61)]\n",
      "\n",
      " [('הבנקימ', 153), ('הפיקוח', 126), ('2009', 52), ('הבנקאיימ', 52), ('בנושא', 49), ('הבנקאית', 48), ('ניהול', 44), ('ההונ', 40), ('הבנקאי', 36), ('התאגידימ', 36)]\n",
      "\n",
      " [('2009', 152), ('2008', 96), ('הבנקימ', 85), ('הבנקאות', 70), ('האשראי', 60), ('מערכת', 58), ('אשראי', 55), ('פיקדונות', 50), ('שראי', 48), ('הציבור', 45)]\n",
      "\n",
      " [('השנה', 143), ('הקבוצות', 105), ('הרווח', 75), ('ההכנסות', 61), ('הבנקאיות', 59), ('2009', 53), ('2008', 52), ('התפעוליות', 52), ('ההונ', 49), ('הבנקימ', 49)]\n",
      "\n",
      " [('הבנקימ', 218), ('הפיקוח', 133), ('2010', 116), ('הבנקאיימ', 84), ('התאגידימ', 69), ('בנק', 62), ('הבנק', 61), ('ניהול', 51), ('בשנת', 49), ('בנושא', 49)]\n",
      "\n",
      " [('הבנקימ', 16), ('השנה', 12), ('2010', 10), ('האשראי', 10), ('ההונ', 7), ('סיכונ', 7), ('ההתפתחויות', 6), ('רקע', 6), ('הבנקאית', 6), ('במערכת', 5)]\n",
      "\n",
      " [('2010', 411), ('האשראי', 350), ('2009', 209), ('השנה', 201), ('הבנקאות', 157), ('הבנקימ', 155), ('ההונ', 145), ('סיכונ', 127), ('בישראל', 115), ('אשראי', 113)]\n",
      "\n",
      " [('הפיקוח', 98), ('הבנקימ', 84), ('הבנקאיימ', 53), ('הבנקאית', 52), ('ניהול', 51), ('התאגידימ', 38), ('2013', 37), ('בנקאי', 35), ('בינ', 33), ('היחידה', 32)]\n",
      "\n",
      " [('האשראי', 179), ('השנה', 105), ('הבנקאות', 101), ('2013', 95), ('הבנקימ', 88), ('לדיור', 87), ('בישראל', 70), ('הריבית', 69), ('בנק', 60), ('במערכת', 59)]\n",
      "\n",
      " [('האשראי', 182), ('2014', 151), ('השנה', 128), ('הבנקאות', 112), ('בינ', 82), ('הבנקימ', 77), ('בישראל', 72), ('אשראי', 68), ('הריבית', 66), ('בנק', 65)]\n",
      "\n",
      " [('הבנקימ', 172), ('הפיקוח', 140), ('2014', 81), ('ניהול', 75), ('הבנקאיימ', 63), ('האשראי', 54), ('בנקאי', 54), ('בינ', 53), ('הבנקאות', 49), ('הבנקאית', 48)]\n",
      "\n",
      " [('הבנקימ', 214), ('האשראי', 205), ('הבנקאות', 141), ('2015', 138), ('בינ', 126), ('השנה', 114), ('בישראל', 105), ('האחרונות', 105), ('בנק', 85), ('בשנימ', 83)]\n",
      "\n",
      " [('הפיקוח', 175), ('הבנקימ', 140), ('ניהול', 88), ('הבנקאיימ', 86), ('בנקאי', 78), ('2015', 68), ('בינ', 60), ('הבנקאית', 59), ('הציות', 59), ('בנק', 55)]\n",
      "\n",
      " [('הבנקימ', 354), ('2016', 205), ('האשראי', 204), ('הפיקוח', 181), ('הבנקאות', 162), ('בנק', 102), ('בישראל', 99), ('בינ', 97), ('הבנקאית', 95), ('ישראל', 90)]\n",
      "\n",
      " [('הבנקימ', 520), ('האשראי', 377), ('2017', 303), ('הפיקוח', 283), ('הבנקאות', 222), ('בישראל', 182), ('ההונ', 177), ('בינ', 175), ('אשראי', 172), ('בנק', 150)]\n"
     ]
    }
   ],
   "source": [
    "# num of occurances of most common words in each intro to yearly report\n",
    "for file in files:\n",
    "    raw = corpus.raw(file)\n",
    "    all_text2= raw.translate(str.maketrans(\"\",\"\", string.punctuation))\n",
    "    all_text3= all_text2.translate(str.maketrans(\"ךםןףץ\",\"כמנפצ\"))\n",
    "    clean = ' '.join([word for word in all_text3.split() if len(word) >2])\n",
    "    words = nltk.word_tokenize(clean)\n",
    "    print(\"\\n\", Counter(words).most_common(10))"
   ]
  },
  {
   "cell_type": "markdown",
   "metadata": {},
   "source": [
    " If object is string - length is number of letters.\n",
    " If object is list - length is number of elements in list -\n",
    " so if object words - it's number of words.\n",
    " \n",
    " for i in all_text2, clean, words, sentences:\n",
    " print(type(i))\n",
    " print(len(i))"
   ]
  },
  {
   "cell_type": "code",
   "execution_count": null,
   "metadata": {},
   "outputs": [],
   "source": [
    "print(\"hello!\")"
   ]
  },
  {
   "cell_type": "code",
   "execution_count": null,
   "metadata": {},
   "outputs": [],
   "source": [
    "#bigrams with CountVectorizer\n",
    "count_vec = CountVectorizer(analyzer='word', \n",
    "                            ngram_range=(2, 2), max_df=1.0, min_df=1, max_features=None)\n",
    "for file in files:\n",
    "    raw = corpus.raw(file)\n",
    "    all_text2= raw.translate(str.maketrans(\"\",\"\", string.punctuation))\n",
    "    all_text3= all_text2.translate(str.maketrans(\"ךםןףץ\",\"כמנפצ\"))\n",
    "    clean = ' '.join([word for word in all_text3.split() if len(word) >2])\n",
    "    count_train = count_vec.fit([clean])\n",
    "    bag_of_words = count_vec.transform([clean])\n",
    "    type(count_train)\n",
    "    #print(\"Vocabulary size: {}\".format(len(count_train.vocabulary_)))\n",
    "    #print(\"\\nTop 5 features:\\n{}\".format(count_vec.get_feature_names()[:5]))\n",
    "    sum_words = bag_of_words.sum(axis=0)\n",
    "    words_freq = [(word, sum_words[0, idx]) for word, idx in count_vec.vocabulary_.items()]\n",
    "    bigram_freq = (sorted(words_freq, key = lambda x: x[1], reverse=True))\n",
    "    print(bigram_freq[:10],\"\\n\")"
   ]
  },
  {
   "cell_type": "markdown",
   "metadata": {},
   "source": [
    "# sentiment analysis\n"
   ]
  },
  {
   "cell_type": "code",
   "execution_count": null,
   "metadata": {},
   "outputs": [],
   "source": [
    "#first build 2 lists of pos and neg\n",
    "positive_vocab = [\"מצוין\", \"אדיר\"]\n",
    "negative_vocab = [\"גרוע\"]\n",
    "neutral_vocab = [\"בסדר\"]"
   ]
  },
  {
   "cell_type": "code",
   "execution_count": null,
   "metadata": {},
   "outputs": [],
   "source": [
    "def word_feats(words):\n",
    "    return dict([(word, True) for word in words])\n",
    " \n",
    "positive_features = [(word_feats(pos), 'pos') for pos in positive_vocab]\n",
    "negative_features = [(word_feats(neg), 'neg') for neg in negative_vocab]\n",
    "neutral_features = [(word_feats(neu), 'neu') for neu in neutral_vocab]"
   ]
  },
  {
   "cell_type": "code",
   "execution_count": null,
   "metadata": {},
   "outputs": [],
   "source": [
    "positive_features"
   ]
  },
  {
   "cell_type": "code",
   "execution_count": null,
   "metadata": {},
   "outputs": [],
   "source": [
    "positive_vocab = [ 'awesome', 'outstanding', 'fantastic', 'terrific', 'good', 'nice', 'great', ':)' ]\n",
    "negative_vocab = [ 'bad', 'terrible','useless', 'hate', ':(' ]\n",
    "neutral_vocab = [ 'movie','the','sound','was','is','actors','did','know','words','not' ]\n",
    "def word_feats(words):\n",
    "    return dict([(word, True) for word in words])\n",
    " \n",
    "positive_features = [(word_feats(pos), 'pos') for pos in positive_vocab]\n",
    "negative_features = [(word_feats(neg), 'neg') for neg in negative_vocab]\n",
    "neutral_features = [(word_feats(neu), 'neu') for neu in neutral_vocab]\n",
    "neutral_features"
   ]
  },
  {
   "cell_type": "code",
   "execution_count": null,
   "metadata": {},
   "outputs": [],
   "source": [
    "import nltk.classify.util\n",
    "from nltk.classify import NaiveBayesClassifier\n",
    "from nltk.corpus import names\n",
    " \n",
    "def word_feats(words):\n",
    "    return dict([(word, True) for word in words])\n",
    " \n",
    "positive_vocab = [ 'awesome', 'outstanding', 'fantastic', 'terrific', 'good', 'nice', 'great', ':)' ]\n",
    "negative_vocab = [ 'bad', 'terrible','useless', 'hate', ':(' ]\n",
    "neutral_vocab = [ 'movie','the','sound','was','is','actors','did','know','words','not','it' ]\n",
    " \n",
    "positive_features = [(word_feats(pos), 'pos') for pos in positive_vocab]\n",
    "negative_features = [(word_feats(neg), 'neg') for neg in negative_vocab]\n",
    "neutral_features = [(word_feats(neu), 'neu') for neu in neutral_vocab]\n",
    " \n",
    "train_set = negative_features + positive_features + neutral_features\n",
    " \n",
    "classifier = NaiveBayesClassifier.train(train_set) \n",
    " \n",
    "# Predict\n",
    "neg = 0\n",
    "pos = 0\n",
    "sentence = \"Awesome film, I liked it\"\n",
    "sentence = sentence.lower()\n",
    "words = sentence.split(' ')\n",
    "for word in words:\n",
    "    classResult = classifier.classify( word_feats(word))\n",
    "    if classResult == 'neg':\n",
    "        neg = neg + 1\n",
    "    if classResult == 'pos':\n",
    "        pos = pos + 1\n",
    " \n",
    "print('Positive: ' + str(float(pos)/len(words)))\n",
    "print('Negative: ' + str(float(neg)/len(words)))"
   ]
  },
  {
   "cell_type": "code",
   "execution_count": null,
   "metadata": {},
   "outputs": [],
   "source": [
    "from gensim.corpora import WikiCorpus\n",
    "\n",
    "language_code = \"he\"\n",
    "inp = language_code+\"wiki-latest-pages-articles.xml.bz2\"\n",
    "outp = \"wiki.{}.text\".format(language_code)\n",
    "i = 0\n",
    "\n",
    "print(\"Starting to create wiki corpus\")\n",
    "output = open(outp, 'w')\n",
    "space = \" \"\n",
    "wiki = WikiCorpus(inp, lemmatize=False, dictionary={})\n",
    "for text in wiki.get_texts():\n",
    "  article = space.join([t.decode(\"utf-8\") for t in text])\n",
    "\n",
    "  output.write(article + \"\\n\")\n",
    "  i = i + 1\n",
    "  if (i % 1000 == 0):\n",
    "    print(\"Saved \" + str(i) + \" articles\")\n",
    "\n",
    "output.close()\n",
    "print(\"Finished - Saved \" + str(i) + \" articles\")"
   ]
  },
  {
   "cell_type": "code",
   "execution_count": null,
   "metadata": {},
   "outputs": [],
   "source": []
  }
 ],
 "metadata": {
  "kernelspec": {
   "display_name": "Python 3",
   "language": "python",
   "name": "python3"
  },
  "language_info": {
   "codemirror_mode": {
    "name": "ipython",
    "version": 3
   },
   "file_extension": ".py",
   "mimetype": "text/x-python",
   "name": "python",
   "nbconvert_exporter": "python",
   "pygments_lexer": "ipython3",
   "version": "3.6.3"
  }
 },
 "nbformat": 4,
 "nbformat_minor": 2
}
